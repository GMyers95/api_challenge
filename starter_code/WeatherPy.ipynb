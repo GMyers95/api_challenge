{
 "cells": [
  {
   "cell_type": "markdown",
   "metadata": {},
   "source": [
    "# WeatherPy\n",
    "----\n",
    "\n",
    "#### Note\n",
    "* Instructions have been included for each segment. You do not have to follow them exactly, but they are included to help you think through the steps."
   ]
  },
  {
   "cell_type": "code",
   "execution_count": null,
   "metadata": {
    "scrolled": true
   },
   "outputs": [],
   "source": [
    "# Dependencies and Setup\n",
    "import matplotlib.pyplot as plt\n",
    "import pandas as pd\n",
    "import numpy as np\n",
    "import requests\n",
    "import time\n",
    "from scipy.stats import linregress\n",
    "\n",
    "# Import API key\n",
    "from api_keys import weather_api_key\n",
    "\n",
    "# Incorporated citipy to determine city based on latitude and longitude\n",
    "from citipy import citipy\n",
    "\n",
    "# Output File (CSV)\n",
    "output_data_file = \"output_data/cities.csv\"\n",
    "\n",
    "# Range of latitudes and longitudes\n",
    "lat_range = (-90, 90)\n",
    "lng_range = (-180, 180)"
   ]
  },
  {
   "cell_type": "markdown",
   "metadata": {},
   "source": [
    "## Generate Cities List"
   ]
  },
  {
   "cell_type": "code",
   "execution_count": null,
   "metadata": {},
   "outputs": [],
   "source": [
    "# List for holding lat_lngs and cities\n",
    "lat_lngs = []\n",
    "cities = []\n",
    "\n",
    "# Create a set of random lat and lng combinations\n",
    "lats = np.random.uniform(lat_range[0], lat_range[1], size=1500)\n",
    "lngs = np.random.uniform(lng_range[0], lng_range[1], size=1500)\n",
    "lat_lngs = zip(lats, lngs)\n",
    "\n",
    "# Identify nearest city for each lat, lng combination\n",
    "for lat_lng in lat_lngs:\n",
    "    city = citipy.nearest_city(lat_lng[0], lat_lng[1]).city_name\n",
    "    \n",
    "    # If the city is unique, then add it to a our cities list\n",
    "    if city not in cities:\n",
    "        cities.append(city)\n",
    "\n",
    "# Print the city count to confirm sufficient count\n",
    "len(cities)"
   ]
  },
  {
   "cell_type": "markdown",
   "metadata": {},
   "source": [
    "### Perform API Calls\n",
    "* Perform a weather check on each city using a series of successive API calls.\n",
    "* Include a print log of each city as it'sbeing processed (with the city number and city name).\n"
   ]
  },
  {
   "cell_type": "code",
   "execution_count": null,
   "metadata": {
    "scrolled": true
   },
   "outputs": [],
   "source": [
    "# config and query formation\n",
    "# url = \"http://api.openweathermap.org/data/2.5/weather?units=Imperial\"\n",
    "\n",
    "# query = f\"{url}appid={weather_api_key}&q=\"\n",
    "base_url = \"http://api.openweathermap.org/data/2.5/weather?units=Imperial\"\n",
    "query_url = base_url + \"&appid=\" + weather_api_key + \"&q=\"\n",
    "# response = requests.get(f'{query_url}{city}').json()\n",
    "# pprint(response)\n",
    "\n",
    "#make empty lists for response input\n",
    "lat = []\n",
    "long = []\n",
    "city_names = []\n",
    "country = []\n",
    "date = []\n",
    "temp_max = []\n",
    "cloudiness = []\n",
    "humidity = []\n",
    "wind_speed = []\n",
    "\n",
    "#create for loop to append data into each list, use try/except in case of nonexistent cities\n",
    "for city in cities:\n",
    "    try:\n",
    "        response = requests.get(f'{query_url}{city}').json()\n",
    "        lat.append(response[\"coord\"][\"lat\"])\n",
    "        long.append(response[\"coord\"][\"lon\"])\n",
    "        city_names.append(response[\"name\"])\n",
    "        country.append(response[\"sys\"][\"country\"])\n",
    "        date.append(response[\"dt\"])\n",
    "        temp_max.append(response[\"main\"][\"temp_max\"])\n",
    "        cloudiness.append(response[\"clouds\"][\"all\"])\n",
    "        humidity.append(response[\"main\"][\"humidity\"])\n",
    "        wind_speed.append(response[\"wind\"][\"speed\"])\n",
    "        city_count = len(city_names)\n",
    "        print(f\"City number {city_count} ({city}) added.\")\n",
    "        print(\"-----\")\n",
    "    except KeyError:\n",
    "        print(\"City not found, skipping.\")\n",
    "        print(\"-----\")"
   ]
  },
  {
   "cell_type": "code",
   "execution_count": null,
   "metadata": {},
   "outputs": [],
   "source": []
  },
  {
   "cell_type": "markdown",
   "metadata": {},
   "source": [
    "### Convert Raw Data to DataFrame\n",
    "* Export the city data into a .csv.\n",
    "* Display the DataFrame"
   ]
  },
  {
   "cell_type": "code",
   "execution_count": null,
   "metadata": {},
   "outputs": [],
   "source": [
    "dict_wthr = { \n",
    "    \"Lat\": lat,\n",
    "    \"Long\": long,\n",
    "    \"City\": city_names,\n",
    "    \"Country\": country,\n",
    "    \"Date\": date,\n",
    "    \"Max Temp\": temp_max, \n",
    "    \"Cloudiness\": cloudiness,\n",
    "    \"Humidity\": humidity,\n",
    "    \"Wind Speed\": wind_speed\n",
    "}\n",
    "weather_df = pd.DataFrame(dict_wthr)\n",
    "weather_df.head()"
   ]
  },
  {
   "cell_type": "code",
   "execution_count": null,
   "metadata": {},
   "outputs": [],
   "source": [
    "weather_df.to_csv(r\"../output_data/weather_csv.csv\", index = False)"
   ]
  },
  {
   "cell_type": "markdown",
   "metadata": {},
   "source": [
    "## Inspect the data and remove the cities where the humidity > 100%.\n",
    "----\n",
    "Skip this step if there are no cities that have humidity > 100%. "
   ]
  },
  {
   "cell_type": "code",
   "execution_count": null,
   "metadata": {},
   "outputs": [],
   "source": [
    "weather_df[weather_df[\"Humidity\"] > 100].nunique()"
   ]
  },
  {
   "cell_type": "code",
   "execution_count": null,
   "metadata": {},
   "outputs": [],
   "source": [
    "#  Get the indices of cities that have humidity over 100%.\n",
    "\n",
    "# No cities with humidity >100%, skipping."
   ]
  },
  {
   "cell_type": "code",
   "execution_count": null,
   "metadata": {},
   "outputs": [],
   "source": [
    "# Make a new DataFrame equal to the city data to drop all humidity outliers by index.\n",
    "# Passing \"inplace=False\" will make a copy of the city_data DataFrame, which we call \"clean_city_data\".\n"
   ]
  },
  {
   "cell_type": "code",
   "execution_count": null,
   "metadata": {},
   "outputs": [],
   "source": [
    "\n"
   ]
  },
  {
   "cell_type": "markdown",
   "metadata": {},
   "source": [
    "## Plotting the Data\n",
    "* Use proper labeling of the plots using plot titles (including date of analysis) and axes labels.\n",
    "* Save the plotted figures as .pngs."
   ]
  },
  {
   "cell_type": "markdown",
   "metadata": {},
   "source": [
    "## Latitude vs. Temperature Plot"
   ]
  },
  {
   "cell_type": "code",
   "execution_count": null,
   "metadata": {
    "scrolled": true
   },
   "outputs": [],
   "source": [
    "#set up variables to use in for loop\n",
    "lat_plt = weather_df[\"Lat\"]\n",
    "temp_plt = weather_df[\"Max Temp\"]\n",
    "humidity_plt = weather_df[\"Humidity\"]\n",
    "cloud_plt = weather_df[\"Cloudiness\"]\n",
    "wind_plt = weather_df[\"Wind Speed\"]\n",
    "date = \"Oct. 11, 2022\"\n",
    "\n",
    "#need lists to iterate in for loops\n",
    "y_data = [temp_plt, humidity_plt, cloud_plt, wind_plt]\n",
    "y_labels = [\"Temperature (*F)\", \"Humidity (%)\", \"Cloudiness (%)\", \"Wind Speed (MPH)\"]\n",
    "\n",
    "# run through loop to create each requested plot\n",
    "\n",
    "for data in range(4):\n",
    "    plt.figure()\n",
    "    plt.scatter(lat_plt, y_data[data])\n",
    "\n",
    "    # Set labels for each looped plot\n",
    "    plt.title(f\"Latitude vs. {y_labels[data]} ({date})\")\n",
    "    plt.xlabel(\"Latitude\")\n",
    "    plt.ylabel(f\"{y_labels[data]}\")\n",
    "    plt.grid()\n",
    "\n",
    "    plt.show()\n",
    "    \n",
    "    # Save each plot as png\n",
    "    plt.savefig(f\"../output_data/plot{data + 1}.png\")\n",
    "    \n",
    "    # explain each plot\n",
    "    if y_labels[data] == \"Temperature (*F)\":\n",
    "        print(\"This plot compares latitude and max temperature in each city within the dataframe. There is a readable tendency that as the cities get closer to the equator, the max temp increases.\")\n",
    "    elif y_labels[data] == \"Humidity (%)\":\n",
    "        print(\"This plot compares latitude and humidity percentage in each city within the dataframe.The tendency here seems to be a correlation between higher latitude and higher humidity.\")\n",
    "    elif y_labels[data] == \"Cloudiness (%)\":\n",
    "        print(\"This plot compares latitude and cloud coverage (as a percentage) in each city within the dataframe. There is no readable tendency or trend here.\")\n",
    "    elif y_labels[data] == \"Wind Speed (MPH)\":\n",
    "        print(f\"This plot compares latitude and wind speed (miles per hour) in each city within the dataframe. Same as cloud coverage, there is no readable tendency or trend here.\")"
   ]
  },
  {
   "cell_type": "markdown",
   "metadata": {
    "jp-MarkdownHeadingCollapsed": true,
    "tags": []
   },
   "source": [
    "## Latitude vs. Humidity Plot"
   ]
  },
  {
   "cell_type": "code",
   "execution_count": null,
   "metadata": {},
   "outputs": [],
   "source": []
  },
  {
   "cell_type": "markdown",
   "metadata": {
    "jp-MarkdownHeadingCollapsed": true,
    "tags": []
   },
   "source": [
    "## Latitude vs. Cloudiness Plot"
   ]
  },
  {
   "cell_type": "code",
   "execution_count": null,
   "metadata": {},
   "outputs": [],
   "source": []
  },
  {
   "cell_type": "markdown",
   "metadata": {
    "jp-MarkdownHeadingCollapsed": true,
    "tags": []
   },
   "source": [
    "## Latitude vs. Wind Speed Plot"
   ]
  },
  {
   "cell_type": "code",
   "execution_count": null,
   "metadata": {},
   "outputs": [],
   "source": []
  },
  {
   "cell_type": "markdown",
   "metadata": {
    "tags": []
   },
   "source": [
    "## Linear Regression"
   ]
  },
  {
   "cell_type": "code",
   "execution_count": null,
   "metadata": {},
   "outputs": [],
   "source": [
    "#Similar process as above, but splitting lat into hemispheres and adding regression\n",
    "nlat = weather_df[weather_df[\"Lat\"] > 0]\n",
    "slat = weather_df[weather_df[\"Lat\"] < 0]\n",
    "\n",
    "nlat_plt = nlat[\"Lat\"]\n",
    "ntemp_plt = nlat[\"Max Temp\"]\n",
    "nhumidity_plt = nlat[\"Humidity\"]\n",
    "ncloud_plt = nlat[\"Cloudiness\"]\n",
    "nwind_plt = nlat[\"Wind Speed\"]\n",
    "\n",
    "slat_plt = slat[\"Lat\"]\n",
    "stemp_plt = slat[\"Max Temp\"]\n",
    "shumidity_plt = slat[\"Humidity\"]\n",
    "scloud_plt = slat[\"Cloudiness\"]\n",
    "swind_plt = slat[\"Wind Speed\"]\n",
    "\n",
    "reg_data_x = [nlat_plt, slat_plt, nlat_plt, slat_plt, nlat_plt, slat_plt, nlat_plt, slat_plt]\n",
    "reg_data_y = [ntemp_plt, stemp_plt, nhumidity_plt, shumidity_plt, ncloud_plt, scloud_plt, nwind_plt, swind_plt]\n",
    "reg_labels_x = [\"Northern Hemisphere Latitude\", \"Southern Hemisphere Latitude\", \"Northern Hemisphere Latitude\", \"Southern Hemisphere Latitude\", \"Northern Hemisphere Latitude\", \"Southern Hemisphere Latitude\", \"Northern Hemisphere Latitude\", \"Southern Hemisphere Latitude\"]\n",
    "reg_labels_y = [\"Temperature (*F)\", \"Temperature (*F)\", \"Humidity (%)\", \"Humidity (%)\", \"Cloudiness (%)\", \"Cloudiness (%)\", \"Wind Speed (MPH)\", \"Wind Speed (MPH)\"]\n",
    "\n",
    "for data in range(8):\n",
    "    plt.figure()\n",
    "    plt.scatter(reg_data_x[data], reg_data_y[data])\n",
    "\n",
    "    plt.title(f\"{reg_labels_x[data]} vs. {reg_labels_y[data]} ({date})\")\n",
    "    plt.xlabel(\"Latitude\")\n",
    "    plt.ylabel(f\"{reg_labels_y[data]}\")\n",
    "    plt.grid()\n",
    "    \n",
    "    # add regression\n",
    "    (slope, intercept, rvalue, pvalue, stderr) = linregress(reg_data_x[data], reg_data_y[data])\n",
    "    r_squared = rvalue**2\n",
    "    print(f\"r-squared value: {r_squared}\")\n",
    "    regress_values = reg_data_x[data] * slope + intercept\n",
    "    line_eq = \"y = \" + str(round(slope,2)) + \"x + \" + str(round(intercept,2))\n",
    "    plt.plot(reg_data_x[data],regress_values,\"r-\")\n",
    "    plt.annotate(line_eq,(reg_data_x[data].min(),reg_data_y[data].max()),fontsize=15,color=\"purple\")\n",
    "    \n",
    "    plt.show()\n",
    " \n",
    "    plt.savefig(f\"../output_data/plot{data + 5}.png\")\n",
    "    \n",
    "    if (reg_labels_x[data] == \"Southern Hemisphere Latitude\" and reg_labels_y[data] == \"Temperature (*F)\"):\n",
    "        print(\"These plots compare the max temps with the latitudes of each city within the southern and northern hemispheres. Given the strong r-squared value, it is notable that the farther north a northern-hemisphere city is from the equator, the colder it is, while the northern-most cities of the southern-hemisphere are closer to the equator and noticeably warmer.\")\n",
    "    elif (reg_labels_x[data] == \"Southern Hemisphere Latitude\" and reg_labels_y[data] == \"Humidity (%)\"):\n",
    "        print(\"These plots compare the humidities with the latitudes of each city within the southern and northern hemispheres. It seems in both hemispheres, the farther north a city is, the more humid it gets. However, the r-squared value is not very strong, meaning this observation is not truely accurate.\")\n",
    "    elif (reg_labels_x[data] == \"Southern Hemisphere Latitude\" and reg_labels_y[data] == \"Cloudiness (%)\"):\n",
    "        print(\"These plots compare the cloudiness with the latitudes of each city within the southern and northern hemispheres. Again, as the cities in each hemisphere are farther north, cloudiness seems to increase, however with the weak r-squared value, this is not a reliable observation.\")\n",
    "    elif (reg_labels_x[data] == \"Southern Hemisphere Latitude\" and reg_labels_y[data] == \"Wind Speed (MPH)\"):\n",
    "        print(\"These plots compare the wind speeds with the latitudes of each city within the southern and northern hemispheres. It appears that the closer a city is to the equator, the windier it gets. However, both r-squared values are once again weak, meaning this is not a reliable observation.\")"
   ]
  },
  {
   "cell_type": "markdown",
   "metadata": {
    "jp-MarkdownHeadingCollapsed": true,
    "tags": []
   },
   "source": [
    "####  Northern Hemisphere - Max Temp vs. Latitude Linear Regression"
   ]
  },
  {
   "cell_type": "code",
   "execution_count": null,
   "metadata": {},
   "outputs": [],
   "source": []
  },
  {
   "cell_type": "markdown",
   "metadata": {
    "jp-MarkdownHeadingCollapsed": true,
    "tags": []
   },
   "source": [
    "####  Southern Hemisphere - Max Temp vs. Latitude Linear Regression"
   ]
  },
  {
   "cell_type": "code",
   "execution_count": null,
   "metadata": {},
   "outputs": [],
   "source": []
  },
  {
   "cell_type": "markdown",
   "metadata": {
    "jp-MarkdownHeadingCollapsed": true,
    "tags": []
   },
   "source": [
    "####  Northern Hemisphere - Humidity (%) vs. Latitude Linear Regression"
   ]
  },
  {
   "cell_type": "code",
   "execution_count": null,
   "metadata": {},
   "outputs": [],
   "source": []
  },
  {
   "cell_type": "markdown",
   "metadata": {
    "jp-MarkdownHeadingCollapsed": true,
    "tags": []
   },
   "source": [
    "####  Southern Hemisphere - Humidity (%) vs. Latitude Linear Regression"
   ]
  },
  {
   "cell_type": "code",
   "execution_count": null,
   "metadata": {},
   "outputs": [],
   "source": []
  },
  {
   "cell_type": "markdown",
   "metadata": {
    "jp-MarkdownHeadingCollapsed": true,
    "tags": []
   },
   "source": [
    "####  Northern Hemisphere - Cloudiness (%) vs. Latitude Linear Regression"
   ]
  },
  {
   "cell_type": "code",
   "execution_count": null,
   "metadata": {},
   "outputs": [],
   "source": []
  },
  {
   "cell_type": "markdown",
   "metadata": {
    "jp-MarkdownHeadingCollapsed": true,
    "tags": []
   },
   "source": [
    "####  Southern Hemisphere - Cloudiness (%) vs. Latitude Linear Regression"
   ]
  },
  {
   "cell_type": "code",
   "execution_count": null,
   "metadata": {},
   "outputs": [],
   "source": []
  },
  {
   "cell_type": "markdown",
   "metadata": {
    "jp-MarkdownHeadingCollapsed": true,
    "tags": []
   },
   "source": [
    "####  Northern Hemisphere - Wind Speed (mph) vs. Latitude Linear Regression"
   ]
  },
  {
   "cell_type": "code",
   "execution_count": null,
   "metadata": {},
   "outputs": [],
   "source": []
  },
  {
   "cell_type": "markdown",
   "metadata": {
    "tags": []
   },
   "source": [
    "####  Southern Hemisphere - Wind Speed (mph) vs. Latitude Linear Regression"
   ]
  },
  {
   "cell_type": "code",
   "execution_count": null,
   "metadata": {},
   "outputs": [],
   "source": []
  },
  {
   "cell_type": "code",
   "execution_count": null,
   "metadata": {},
   "outputs": [],
   "source": [
    "# Written Analysis of WeatherPy:\n",
    "# 1. The only reliable observation of weather between hemispheres was in regards to temperature, where the closer a city is to the equator, the warmer its max temp is.\n",
    "# 2. With the collection of cities in the df I ran, it seemed that there were more cities closer to the equator than there were on the outer rims of each hemisphere.\n",
    "# 3. Since the r-squared values for wind speed and cloudiness were both very weak, any readable tendencies weren't reliable. I would be interested to see if other geographic features create a stronger/more reliable r-squared value for those two weather observations."
   ]
  }
 ],
 "metadata": {
  "anaconda-cloud": {},
  "kernel_info": {
   "name": "python3"
  },
  "kernelspec": {
   "display_name": "Python [conda env:PythonData38] *",
   "language": "python",
   "name": "conda-env-PythonData38-py"
  },
  "language_info": {
   "codemirror_mode": {
    "name": "ipython",
    "version": 3
   },
   "file_extension": ".py",
   "mimetype": "text/x-python",
   "name": "python",
   "nbconvert_exporter": "python",
   "pygments_lexer": "ipython3",
   "version": "3.8.13"
  },
  "latex_envs": {
   "LaTeX_envs_menu_present": true,
   "autoclose": false,
   "autocomplete": true,
   "bibliofile": "biblio.bib",
   "cite_by": "apalike",
   "current_citInitial": 1,
   "eqLabelWithNumbers": true,
   "eqNumInitial": 1,
   "hotkeys": {
    "equation": "Ctrl-E",
    "itemize": "Ctrl-I"
   },
   "labels_anchors": false,
   "latex_user_defs": false,
   "report_style_numbering": false,
   "user_envs_cfg": false
  },
  "nteract": {
   "version": "0.12.3"
  }
 },
 "nbformat": 4,
 "nbformat_minor": 4
}
