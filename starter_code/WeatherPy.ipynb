{
 "cells": [
  {
   "cell_type": "markdown",
   "metadata": {},
   "source": [
    "# WeatherPy\n",
    "----\n",
    "\n",
    "#### Note\n",
    "* Instructions have been included for each segment. You do not have to follow them exactly, but they are included to help you think through the steps."
   ]
  },
  {
   "cell_type": "code",
   "execution_count": 1,
   "metadata": {
    "scrolled": true
   },
   "outputs": [],
   "source": [
    "# Dependencies and Setup\n",
    "import matplotlib.pyplot as plt\n",
    "import pandas as pd\n",
    "import numpy as np\n",
    "import requests\n",
    "import time\n",
    "from scipy.stats import linregress\n",
    "\n",
    "# Import API key\n",
    "from api_keys import weather_api_key\n",
    "\n",
    "# Incorporated citipy to determine city based on latitude and longitude\n",
    "from citipy import citipy\n",
    "\n",
    "# Output File (CSV)\n",
    "output_data_file = \"output_data/cities.csv\"\n",
    "\n",
    "# Range of latitudes and longitudes\n",
    "lat_range = (-90, 90)\n",
    "lng_range = (-180, 180)"
   ]
  },
  {
   "cell_type": "markdown",
   "metadata": {},
   "source": [
    "## Generate Cities List"
   ]
  },
  {
   "cell_type": "code",
   "execution_count": 2,
   "metadata": {},
   "outputs": [
    {
     "data": {
      "text/plain": [
       "626"
      ]
     },
     "execution_count": 2,
     "metadata": {},
     "output_type": "execute_result"
    }
   ],
   "source": [
    "# List for holding lat_lngs and cities\n",
    "lat_lngs = []\n",
    "cities = []\n",
    "\n",
    "# Create a set of random lat and lng combinations\n",
    "lats = np.random.uniform(lat_range[0], lat_range[1], size=1500)\n",
    "lngs = np.random.uniform(lng_range[0], lng_range[1], size=1500)\n",
    "lat_lngs = zip(lats, lngs)\n",
    "\n",
    "# Identify nearest city for each lat, lng combination\n",
    "for lat_lng in lat_lngs:\n",
    "    city = citipy.nearest_city(lat_lng[0], lat_lng[1]).city_name\n",
    "    \n",
    "    # If the city is unique, then add it to a our cities list\n",
    "    if city not in cities:\n",
    "        cities.append(city)\n",
    "\n",
    "# Print the city count to confirm sufficient count\n",
    "len(cities)"
   ]
  },
  {
   "cell_type": "markdown",
   "metadata": {},
   "source": [
    "### Perform API Calls\n",
    "* Perform a weather check on each city using a series of successive API calls.\n",
    "* Include a print log of each city as it'sbeing processed (with the city number and city name).\n"
   ]
  },
  {
   "cell_type": "code",
   "execution_count": 3,
   "metadata": {
    "scrolled": true
   },
   "outputs": [
    {
     "name": "stdout",
     "output_type": "stream",
     "text": [
      "City number 1 (ambon) added.\n",
      "-----\n",
      "City number 2 (monywa) added.\n",
      "-----\n",
      "City number 3 (ushuaia) added.\n",
      "-----\n",
      "City number 4 (khasan) added.\n",
      "-----\n",
      "City number 5 (dikson) added.\n",
      "-----\n",
      "City number 6 (avarua) added.\n",
      "-----\n",
      "City number 7 (owando) added.\n",
      "-----\n",
      "City number 8 (mani) added.\n",
      "-----\n",
      "City number 9 (mataura) added.\n",
      "-----\n",
      "City number 10 (okhotsk) added.\n",
      "-----\n",
      "City number 11 (kapaa) added.\n",
      "-----\n",
      "City number 12 (manokwari) added.\n",
      "-----\n",
      "City not found, skipping.\n",
      "-----\n",
      "City number 13 (bullhead city) added.\n",
      "-----\n",
      "City number 14 (cidreira) added.\n",
      "-----\n",
      "City number 15 (puerto ayora) added.\n",
      "-----\n",
      "City number 16 (khatanga) added.\n",
      "-----\n",
      "City number 17 (guisa) added.\n",
      "-----\n",
      "City number 18 (hobart) added.\n",
      "-----\n",
      "City number 19 (sur) added.\n",
      "-----\n",
      "City number 20 (qaqortoq) added.\n",
      "-----\n",
      "City number 21 (kampene) added.\n",
      "-----\n",
      "City number 22 (vaini) added.\n",
      "-----\n",
      "City not found, skipping.\n",
      "-----\n",
      "City number 23 (chuy) added.\n",
      "-----\n",
      "City number 24 (saint-pierre) added.\n",
      "-----\n",
      "City number 25 (atikokan) added.\n",
      "-----\n",
      "City number 26 (clyde river) added.\n",
      "-----\n",
      "City number 27 (mahebourg) added.\n",
      "-----\n",
      "City number 28 (staraya mayna) added.\n",
      "-----\n",
      "City not found, skipping.\n",
      "-----\n",
      "City number 29 (lahij) added.\n",
      "-----\n",
      "City number 30 (saint-philippe) added.\n",
      "-----\n",
      "City number 31 (busselton) added.\n",
      "-----\n",
      "City number 32 (hilo) added.\n",
      "-----\n",
      "City number 33 (bethel) added.\n",
      "-----\n",
      "City number 34 (nanyang) added.\n",
      "-----\n",
      "City number 35 (lavrentiya) added.\n",
      "-----\n",
      "City number 36 (piterka) added.\n",
      "-----\n",
      "City number 37 (rikitea) added.\n",
      "-----\n",
      "City number 38 (vincennes) added.\n",
      "-----\n",
      "City number 39 (arraial do cabo) added.\n",
      "-----\n",
      "City number 40 (dalbandin) added.\n",
      "-----\n",
      "City number 41 (kodiak) added.\n",
      "-----\n",
      "City not found, skipping.\n",
      "-----\n",
      "City number 42 (barrow) added.\n",
      "-----\n",
      "City number 43 (port alfred) added.\n",
      "-----\n",
      "City number 44 (dakar) added.\n",
      "-----\n",
      "City number 45 (sistranda) added.\n",
      "-----\n",
      "City number 46 (goya) added.\n",
      "-----\n",
      "City number 47 (pangnirtung) added.\n",
      "-----\n",
      "City number 48 (durango) added.\n",
      "-----\n",
      "City number 49 (qianan) added.\n",
      "-----\n",
      "City number 50 (college) added.\n",
      "-----\n",
      "City number 51 (san fernando) added.\n",
      "-----\n",
      "City number 52 (chokurdakh) added.\n",
      "-----\n",
      "City number 53 (tasiilaq) added.\n",
      "-----\n",
      "City not found, skipping.\n",
      "-----\n",
      "City number 54 (rio grande) added.\n",
      "-----\n",
      "City number 55 (airai) added.\n",
      "-----\n",
      "City not found, skipping.\n",
      "-----\n",
      "City number 56 (kruisfontein) added.\n",
      "-----\n",
      "City number 57 (new norfolk) added.\n",
      "-----\n",
      "City number 58 (utete) added.\n",
      "-----\n",
      "City number 59 (saldanha) added.\n",
      "-----\n",
      "City number 60 (ishigaki) added.\n",
      "-----\n",
      "City not found, skipping.\n",
      "-----\n",
      "City number 61 (bredasdorp) added.\n",
      "-----\n",
      "City number 62 (calcutta) added.\n",
      "-----\n",
      "City number 63 (bluff) added.\n",
      "-----\n",
      "City number 64 (vestmanna) added.\n",
      "-----\n",
      "City number 65 (cabo san lucas) added.\n",
      "-----\n",
      "City not found, skipping.\n",
      "-----\n",
      "City number 66 (maragogi) added.\n",
      "-----\n",
      "City number 67 (albany) added.\n",
      "-----\n",
      "City number 68 (carnarvon) added.\n",
      "-----\n",
      "City not found, skipping.\n",
      "-----\n",
      "City not found, skipping.\n",
      "-----\n",
      "City number 69 (priargunsk) added.\n",
      "-----\n",
      "City number 70 (hermanus) added.\n",
      "-----\n",
      "City number 71 (labuan) added.\n",
      "-----\n",
      "City number 72 (punta arenas) added.\n",
      "-----\n",
      "City number 73 (tuatapere) added.\n",
      "-----\n",
      "City number 74 (tilichiki) added.\n",
      "-----\n",
      "City not found, skipping.\n",
      "-----\n",
      "City number 75 (blackfoot) added.\n",
      "-----\n",
      "City number 76 (kanye) added.\n",
      "-----\n",
      "City number 77 (yellowknife) added.\n",
      "-----\n",
      "City number 78 (isangel) added.\n",
      "-----\n",
      "City number 79 (qaanaaq) added.\n",
      "-----\n",
      "City number 80 (beira) added.\n",
      "-----\n",
      "City number 81 (port lincoln) added.\n",
      "-----\n",
      "City number 82 (khash) added.\n",
      "-----\n",
      "City number 83 (hofn) added.\n",
      "-----\n",
      "City number 84 (esperance) added.\n",
      "-----\n",
      "City number 85 (inhambane) added.\n",
      "-----\n",
      "City not found, skipping.\n",
      "-----\n",
      "City number 86 (jamestown) added.\n",
      "-----\n",
      "City number 87 (longhua) added.\n",
      "-----\n",
      "City number 88 (okitipupa) added.\n",
      "-----\n",
      "City number 89 (altamont) added.\n",
      "-----\n",
      "City number 90 (butaritari) added.\n",
      "-----\n",
      "City not found, skipping.\n",
      "-----\n",
      "City number 91 (geraldton) added.\n",
      "-----\n",
      "City number 92 (sindou) added.\n",
      "-----\n",
      "City number 93 (swan hill) added.\n",
      "-----\n",
      "City number 94 (dunedin) added.\n",
      "-----\n",
      "City number 95 (natal) added.\n",
      "-----\n",
      "City number 96 (touros) added.\n",
      "-----\n",
      "City number 97 (kangema) added.\n",
      "-----\n",
      "City number 98 (santa vitoria do palmar) added.\n",
      "-----\n",
      "City number 99 (mbaiki) added.\n",
      "-----\n",
      "City number 100 (marsh harbour) added.\n",
      "-----\n",
      "City number 101 (mokhotlong) added.\n",
      "-----\n",
      "City number 102 (puerto baquerizo moreno) added.\n",
      "-----\n",
      "City number 103 (faanui) added.\n",
      "-----\n",
      "City number 104 (fomboni) added.\n",
      "-----\n",
      "City number 105 (xingcheng) added.\n",
      "-----\n",
      "City not found, skipping.\n",
      "-----\n",
      "City number 106 (pisco) added.\n",
      "-----\n",
      "City number 107 (gediz) added.\n",
      "-----\n",
      "City number 108 (marzuq) added.\n",
      "-----\n",
      "City number 109 (dagana) added.\n",
      "-----\n",
      "City number 110 (nanortalik) added.\n",
      "-----\n",
      "City number 111 (yar-sale) added.\n",
      "-----\n",
      "City number 112 (atuona) added.\n",
      "-----\n",
      "City number 113 (half moon bay) added.\n",
      "-----\n",
      "City number 114 (kaitangata) added.\n",
      "-----\n",
      "City number 115 (tautira) added.\n",
      "-----\n",
      "City number 116 (ahipara) added.\n",
      "-----\n",
      "City number 117 (upernavik) added.\n",
      "-----\n",
      "City number 118 (snezhnogorsk) added.\n",
      "-----\n",
      "City number 119 (rawson) added.\n",
      "-----\n",
      "City number 120 (bubaque) added.\n",
      "-----\n",
      "City number 121 (nadvoitsy) added.\n",
      "-----\n",
      "City number 122 (omsukchan) added.\n",
      "-----\n",
      "City number 123 (nikolskoye) added.\n",
      "-----\n",
      "City number 124 (srednekolymsk) added.\n",
      "-----\n",
      "City number 125 (norman wells) added.\n",
      "-----\n",
      "City number 126 (athabasca) added.\n",
      "-----\n",
      "City number 127 (sobolevo) added.\n",
      "-----\n",
      "City number 128 (saint-georges) added.\n",
      "-----\n",
      "City number 129 (terney) added.\n",
      "-----\n",
      "City not found, skipping.\n",
      "-----\n",
      "City number 130 (san cristobal) added.\n",
      "-----\n",
      "City number 131 (rosamorada) added.\n",
      "-----\n",
      "City number 132 (great falls) added.\n",
      "-----\n",
      "City number 133 (ust-kachka) added.\n",
      "-----\n",
      "City not found, skipping.\n",
      "-----\n",
      "City number 134 (klaksvik) added.\n",
      "-----\n",
      "City number 135 (houston) added.\n",
      "-----\n",
      "City number 136 (los chiles) added.\n",
      "-----\n",
      "City number 137 (tiksi) added.\n",
      "-----\n",
      "City number 138 (bengkulu) added.\n",
      "-----\n",
      "City number 139 (masuguru) added.\n",
      "-----\n",
      "City number 140 (hasaki) added.\n",
      "-----\n",
      "City number 141 (vardo) added.\n",
      "-----\n",
      "City number 142 (cape town) added.\n",
      "-----\n",
      "City number 143 (port elizabeth) added.\n",
      "-----\n",
      "City number 144 (nelson bay) added.\n",
      "-----\n",
      "City number 145 (kayerkan) added.\n",
      "-----\n",
      "City number 146 (luderitz) added.\n",
      "-----\n",
      "City number 147 (castro) added.\n",
      "-----\n",
      "City number 148 (nome) added.\n",
      "-----\n",
      "City number 149 (dingle) added.\n",
      "-----\n",
      "City number 150 (narsaq) added.\n",
      "-----\n",
      "City number 151 (sampit) added.\n",
      "-----\n",
      "City number 152 (tigil) added.\n",
      "-----\n",
      "City number 153 (mountain home) added.\n",
      "-----\n",
      "City number 154 (agadez) added.\n",
      "-----\n",
      "City number 155 (saint george) added.\n",
      "-----\n",
      "City number 156 (roald) added.\n",
      "-----\n",
      "City number 157 (east london) added.\n",
      "-----\n",
      "City number 158 (huntington) added.\n",
      "-----\n",
      "City number 159 (westport) added.\n",
      "-----\n",
      "City number 160 (adrar) added.\n",
      "-----\n",
      "City number 161 (ruwi) added.\n",
      "-----\n",
      "City number 162 (estevan) added.\n",
      "-----\n",
      "City number 163 (colares) added.\n",
      "-----\n",
      "City number 164 (alice town) added.\n",
      "-----\n",
      "City number 165 (lufilufi) added.\n",
      "-----\n",
      "City number 166 (stromness) added.\n",
      "-----\n",
      "City number 167 (cedar city) added.\n",
      "-----\n",
      "City number 168 (robertsport) added.\n",
      "-----\n",
      "City number 169 (najran) added.\n",
      "-----\n",
      "City number 170 (caravelas) added.\n",
      "-----\n",
      "City number 171 (torbay) added.\n",
      "-----\n",
      "City not found, skipping.\n",
      "-----\n",
      "City number 172 (pocone) added.\n",
      "-----\n",
      "City number 173 (colesberg) added.\n",
      "-----\n",
      "City number 174 (indiaroba) added.\n",
      "-----\n",
      "City number 175 (coquimbo) added.\n",
      "-----\n",
      "City number 176 (xuddur) added.\n",
      "-----\n",
      "City number 177 (ponta do sol) added.\n",
      "-----\n",
      "City number 178 (birjand) added.\n",
      "-----\n",
      "City number 179 (carutapera) added.\n",
      "-----\n",
      "City number 180 (beringovskiy) added.\n",
      "-----\n",
      "City number 181 (chara) added.\n",
      "-----\n",
      "City number 182 (tuktoyaktuk) added.\n",
      "-----\n",
      "City number 183 (boca do acre) added.\n",
      "-----\n",
      "City number 184 (lompoc) added.\n",
      "-----\n",
      "City number 185 (port augusta) added.\n",
      "-----\n",
      "City number 186 (praia da vitoria) added.\n",
      "-----\n",
      "City number 187 (shangrao) added.\n",
      "-----\n",
      "City number 188 (hobyo) added.\n",
      "-----\n",
      "City number 189 (jiuquan) added.\n",
      "-----\n",
      "City number 190 (takoradi) added.\n",
      "-----\n",
      "City number 191 (hithadhoo) added.\n",
      "-----\n",
      "City number 192 (mahalingpur) added.\n",
      "-----\n",
      "City number 193 (tabou) added.\n",
      "-----\n"
     ]
    },
    {
     "name": "stdout",
     "output_type": "stream",
     "text": [
      "City number 194 (dalby) added.\n",
      "-----\n",
      "City number 195 (kilindoni) added.\n",
      "-----\n",
      "City number 196 (ribeira grande) added.\n",
      "-----\n",
      "City number 197 (tiarei) added.\n",
      "-----\n",
      "City number 198 (gopalpur) added.\n",
      "-----\n",
      "City number 199 (souillac) added.\n",
      "-----\n",
      "City number 200 (ancud) added.\n",
      "-----\n",
      "City number 201 (saskylakh) added.\n",
      "-----\n",
      "City number 202 (tsabong) added.\n",
      "-----\n",
      "City number 203 (linhares) added.\n",
      "-----\n",
      "City number 204 (kholodnyy) added.\n",
      "-----\n",
      "City number 205 (raudeberg) added.\n",
      "-----\n",
      "City number 206 (griffin) added.\n",
      "-----\n",
      "City number 207 (kavieng) added.\n",
      "-----\n",
      "City not found, skipping.\n",
      "-----\n",
      "City number 208 (iqaluit) added.\n",
      "-----\n",
      "City number 209 (katsuura) added.\n",
      "-----\n",
      "City number 210 (nenjiang) added.\n",
      "-----\n",
      "City number 211 (lamu) added.\n",
      "-----\n",
      "City number 212 (port hedland) added.\n",
      "-----\n",
      "City number 213 (yantal) added.\n",
      "-----\n",
      "City number 214 (marsa matruh) added.\n",
      "-----\n",
      "City number 215 (namibe) added.\n",
      "-----\n",
      "City not found, skipping.\n",
      "-----\n",
      "City number 216 (toora-khem) added.\n",
      "-----\n",
      "City not found, skipping.\n",
      "-----\n",
      "City number 217 (saint-augustin) added.\n",
      "-----\n",
      "City number 218 (georgetown) added.\n",
      "-----\n",
      "City number 219 (montevideo) added.\n",
      "-----\n",
      "City not found, skipping.\n",
      "-----\n",
      "City not found, skipping.\n",
      "-----\n",
      "City number 220 (turkmenabat) added.\n",
      "-----\n",
      "City not found, skipping.\n",
      "-----\n",
      "City number 221 (pontes e lacerda) added.\n",
      "-----\n",
      "City number 222 (sao bernardo) added.\n",
      "-----\n",
      "City number 223 (awbari) added.\n",
      "-----\n",
      "City number 224 (ilinskiy) added.\n",
      "-----\n",
      "City number 225 (deputatskiy) added.\n",
      "-----\n",
      "City number 226 (shahjahanpur) added.\n",
      "-----\n",
      "City number 227 (fairbanks) added.\n",
      "-----\n",
      "City number 228 (houma) added.\n",
      "-----\n",
      "City number 229 (aklavik) added.\n",
      "-----\n",
      "City number 230 (ust-uda) added.\n",
      "-----\n",
      "City number 231 (eyemouth) added.\n",
      "-----\n",
      "City not found, skipping.\n",
      "-----\n",
      "City number 232 (gamboma) added.\n",
      "-----\n",
      "City number 233 (nieuw amsterdam) added.\n",
      "-----\n",
      "City number 234 (sasykoli) added.\n",
      "-----\n",
      "City number 235 (buraydah) added.\n",
      "-----\n",
      "City number 236 (ilulissat) added.\n",
      "-----\n",
      "City number 237 (antsohihy) added.\n",
      "-----\n",
      "City number 238 (san patricio) added.\n",
      "-----\n",
      "City number 239 (ozerki) added.\n",
      "-----\n",
      "City number 240 (magomeni) added.\n",
      "-----\n",
      "City number 241 (constitucion) added.\n",
      "-----\n",
      "City number 242 (odweyne) added.\n",
      "-----\n",
      "City number 243 (locri) added.\n",
      "-----\n",
      "City number 244 (pozo colorado) added.\n",
      "-----\n",
      "City number 245 (kununurra) added.\n",
      "-----\n",
      "City not found, skipping.\n",
      "-----\n",
      "City not found, skipping.\n",
      "-----\n",
      "City number 246 (broken hill) added.\n",
      "-----\n",
      "City number 247 (warrington) added.\n",
      "-----\n",
      "City number 248 (antalaha) added.\n",
      "-----\n",
      "City number 249 (saint-louis) added.\n",
      "-----\n",
      "City number 250 (palmas) added.\n",
      "-----\n",
      "City number 251 (bambous virieux) added.\n",
      "-----\n",
      "City number 252 (san andres) added.\n",
      "-----\n",
      "City number 253 (komsomolskiy) added.\n",
      "-----\n",
      "City number 254 (bilibino) added.\n",
      "-----\n",
      "City number 255 (gorontalo) added.\n",
      "-----\n",
      "City number 256 (chernoyerkovskaya) added.\n",
      "-----\n",
      "City number 257 (los llanos de aridane) added.\n",
      "-----\n",
      "City number 258 (kendari) added.\n",
      "-----\n",
      "City number 259 (gillette) added.\n",
      "-----\n",
      "City number 260 (chake chake) added.\n",
      "-----\n",
      "City number 261 (santa cruz) added.\n",
      "-----\n",
      "City number 262 (luanda) added.\n",
      "-----\n",
      "City number 263 (creston) added.\n",
      "-----\n",
      "City number 264 (naze) added.\n",
      "-----\n",
      "City number 265 (general roca) added.\n",
      "-----\n",
      "City number 266 (kaita) added.\n",
      "-----\n",
      "City number 267 (nyurba) added.\n",
      "-----\n",
      "City number 268 (mareeba) added.\n",
      "-----\n",
      "City number 269 (inuvik) added.\n",
      "-----\n",
      "City number 270 (alihe) added.\n",
      "-----\n",
      "City number 271 (alenquer) added.\n",
      "-----\n",
      "City number 272 (fort nelson) added.\n",
      "-----\n",
      "City not found, skipping.\n",
      "-----\n",
      "City number 273 (mar del plata) added.\n",
      "-----\n",
      "City number 274 (tura) added.\n",
      "-----\n",
      "City number 275 (winnemucca) added.\n",
      "-----\n",
      "City number 276 (lebu) added.\n",
      "-----\n",
      "City number 277 (cherskiy) added.\n",
      "-----\n",
      "City number 278 (bintulu) added.\n",
      "-----\n",
      "City number 279 (aitape) added.\n",
      "-----\n",
      "City number 280 (ergani) added.\n",
      "-----\n",
      "City number 281 (abbeville) added.\n",
      "-----\n",
      "City number 282 (paka) added.\n",
      "-----\n",
      "City number 283 (kadhan) added.\n",
      "-----\n",
      "City number 284 (shenjiamen) added.\n",
      "-----\n",
      "City number 285 (tazovskiy) added.\n",
      "-----\n",
      "City number 286 (imbituba) added.\n",
      "-----\n",
      "City number 287 (stillwater) added.\n",
      "-----\n",
      "City number 288 (husavik) added.\n",
      "-----\n",
      "City number 289 (midland) added.\n",
      "-----\n",
      "City not found, skipping.\n",
      "-----\n",
      "City number 290 (liverpool) added.\n",
      "-----\n",
      "City number 291 (qeshm) added.\n",
      "-----\n",
      "City number 292 (kieta) added.\n",
      "-----\n",
      "City not found, skipping.\n",
      "-----\n",
      "City number 293 (ostrovnoy) added.\n",
      "-----\n",
      "City number 294 (hervey bay) added.\n",
      "-----\n",
      "City number 295 (tessalit) added.\n",
      "-----\n",
      "City number 296 (yulara) added.\n",
      "-----\n",
      "City number 297 (pavlodar) added.\n",
      "-----\n",
      "City number 298 (turayf) added.\n",
      "-----\n",
      "City number 299 (valenca) added.\n",
      "-----\n",
      "City number 300 (pevek) added.\n",
      "-----\n",
      "City number 301 (siyabuswa) added.\n",
      "-----\n",
      "City number 302 (matamoros) added.\n",
      "-----\n",
      "City number 303 (thompson) added.\n",
      "-----\n",
      "City number 304 (kommunar) added.\n",
      "-----\n",
      "City not found, skipping.\n",
      "-----\n",
      "City not found, skipping.\n",
      "-----\n",
      "City number 305 (mahon) added.\n",
      "-----\n",
      "City number 306 (mount isa) added.\n",
      "-----\n",
      "City number 307 (jinchang) added.\n",
      "-----\n",
      "City number 308 (okakarara) added.\n",
      "-----\n",
      "City number 309 (silvania) added.\n",
      "-----\n",
      "City number 310 (san quintin) added.\n",
      "-----\n",
      "City number 311 (yerofey pavlovich) added.\n",
      "-----\n",
      "City number 312 (yandyki) added.\n",
      "-----\n",
      "City number 313 (voznesenye) added.\n",
      "-----\n",
      "City number 314 (farafangana) added.\n",
      "-----\n",
      "City not found, skipping.\n",
      "-----\n",
      "City number 315 (koumac) added.\n",
      "-----\n",
      "City number 316 (ugoofaaru) added.\n",
      "-----\n",
      "City number 317 (gatton) added.\n",
      "-----\n",
      "City number 318 (ercis) added.\n",
      "-----\n",
      "City number 319 (springville) added.\n",
      "-----\n",
      "City number 320 (vanimo) added.\n",
      "-----\n",
      "City number 321 (alta floresta) added.\n",
      "-----\n",
      "City number 322 (tezu) added.\n",
      "-----\n",
      "City number 323 (cabedelo) added.\n",
      "-----\n",
      "City number 324 (allingabro) added.\n",
      "-----\n",
      "City number 325 (kawalu) added.\n",
      "-----\n",
      "City number 326 (carora) added.\n",
      "-----\n",
      "City number 327 (fortuna) added.\n",
      "-----\n",
      "City number 328 (ambanja) added.\n",
      "-----\n",
      "City number 329 (kasamwa) added.\n",
      "-----\n",
      "City number 330 (san juan) added.\n",
      "-----\n",
      "City not found, skipping.\n",
      "-----\n",
      "City number 331 (abha) added.\n",
      "-----\n",
      "City number 332 (jilotepec) added.\n",
      "-----\n",
      "City number 333 (port hardy) added.\n",
      "-----\n",
      "City number 334 (henties bay) added.\n",
      "-----\n",
      "City number 335 (qom) added.\n",
      "-----\n",
      "City number 336 (moree) added.\n",
      "-----\n",
      "City number 337 (morant bay) added.\n",
      "-----\n",
      "City number 338 (bud) added.\n",
      "-----\n",
      "City number 339 (itarema) added.\n",
      "-----\n",
      "City number 340 (dalianwan) added.\n",
      "-----\n",
      "City number 341 (sinnamary) added.\n",
      "-----\n",
      "City number 342 (sibolga) added.\n",
      "-----\n",
      "City number 343 (maple creek) added.\n",
      "-----\n",
      "City number 344 (roma) added.\n",
      "-----\n",
      "City number 345 (coolum beach) added.\n",
      "-----\n",
      "City number 346 (constantine) added.\n",
      "-----\n",
      "City number 347 (iralaya) added.\n",
      "-----\n",
      "City number 348 (bandarbeyla) added.\n",
      "-----\n",
      "City number 349 (anadyr) added.\n",
      "-----\n",
      "City number 350 (laguna) added.\n",
      "-----\n",
      "City number 351 (bayamo) added.\n",
      "-----\n",
      "City number 352 (elko) added.\n",
      "-----\n",
      "City number 353 (saint anthony) added.\n",
      "-----\n",
      "City number 354 (laplace) added.\n",
      "-----\n",
      "City number 355 (vanderhoof) added.\n",
      "-----\n",
      "City number 356 (longyearbyen) added.\n",
      "-----\n",
      "City number 357 (davila) added.\n",
      "-----\n",
      "City number 358 (sorland) added.\n",
      "-----\n",
      "City number 359 (yumen) added.\n",
      "-----\n",
      "City number 360 (silvan) added.\n",
      "-----\n",
      "City number 361 (bagdarin) added.\n",
      "-----\n",
      "City number 362 (kiyasovo) added.\n",
      "-----\n",
      "City number 363 (nabire) added.\n",
      "-----\n",
      "City number 364 (rio brilhante) added.\n",
      "-----\n",
      "City number 365 (oussouye) added.\n",
      "-----\n",
      "City not found, skipping.\n",
      "-----\n",
      "City number 366 (karnobat) added.\n",
      "-----\n",
      "City number 367 (mudgee) added.\n",
      "-----\n",
      "City number 368 (morro bay) added.\n",
      "-----\n",
      "City number 369 (manado) added.\n",
      "-----\n",
      "City number 370 (bani walid) added.\n",
      "-----\n",
      "City number 371 (kiunga) added.\n",
      "-----\n",
      "City number 372 (maragheh) added.\n",
      "-----\n",
      "City number 373 (saint-paul) added.\n",
      "-----\n",
      "City number 374 (sisimiut) added.\n",
      "-----\n",
      "City number 375 (culpeper) added.\n",
      "-----\n",
      "City number 376 (taoudenni) added.\n",
      "-----\n",
      "City number 377 (ryzdvyanyy) added.\n",
      "-----\n",
      "City number 378 (yamada) added.\n",
      "-----\n",
      "City number 379 (batagay-alyta) added.\n",
      "-----\n",
      "City number 380 (mumbwa) added.\n",
      "-----\n",
      "City number 381 (medicine hat) added.\n",
      "-----\n",
      "City number 382 (amahai) added.\n",
      "-----\n",
      "City number 383 (san policarpo) added.\n",
      "-----\n"
     ]
    },
    {
     "name": "stdout",
     "output_type": "stream",
     "text": [
      "City number 384 (pacific grove) added.\n",
      "-----\n",
      "City number 385 (blyth) added.\n",
      "-----\n",
      "City number 386 (chaumont) added.\n",
      "-----\n",
      "City number 387 (lexington) added.\n",
      "-----\n",
      "City number 388 (cururupu) added.\n",
      "-----\n",
      "City number 389 (mackay) added.\n",
      "-----\n",
      "City number 390 (mayo) added.\n",
      "-----\n",
      "City number 391 (kuzino) added.\n",
      "-----\n",
      "City number 392 (ozinki) added.\n",
      "-----\n",
      "City number 393 (kyabe) added.\n",
      "-----\n",
      "City number 394 (ales) added.\n",
      "-----\n",
      "City number 395 (vaitape) added.\n",
      "-----\n",
      "City number 396 (san ignacio) added.\n",
      "-----\n",
      "City number 397 (digha) added.\n",
      "-----\n",
      "City number 398 (griffith) added.\n",
      "-----\n",
      "City number 399 (victoria) added.\n",
      "-----\n",
      "City number 400 (saryagash) added.\n",
      "-----\n",
      "City number 401 (poum) added.\n",
      "-----\n",
      "City number 402 (lagoa) added.\n",
      "-----\n",
      "City number 403 (arica) added.\n",
      "-----\n",
      "City number 404 (wonthaggi) added.\n",
      "-----\n",
      "City number 405 (luba) added.\n",
      "-----\n",
      "City number 406 (san jose) added.\n",
      "-----\n",
      "City number 407 (latung) added.\n",
      "-----\n",
      "City number 408 (gudivada) added.\n",
      "-----\n",
      "City number 409 (muisne) added.\n",
      "-----\n",
      "City not found, skipping.\n",
      "-----\n",
      "City number 410 (leningradskiy) added.\n",
      "-----\n",
      "City number 411 (benxi) added.\n",
      "-----\n",
      "City number 412 (riyadh) added.\n",
      "-----\n",
      "City number 413 (comodoro rivadavia) added.\n",
      "-----\n",
      "City number 414 (trapani) added.\n",
      "-----\n",
      "City number 415 (sao felix do xingu) added.\n",
      "-----\n",
      "City number 416 (cootamundra) added.\n",
      "-----\n",
      "City number 417 (dali) added.\n",
      "-----\n",
      "City number 418 (tshela) added.\n",
      "-----\n",
      "City number 419 (sept-iles) added.\n",
      "-----\n",
      "City number 420 (aleksandrov gay) added.\n",
      "-----\n",
      "City number 421 (daru) added.\n",
      "-----\n",
      "City not found, skipping.\n",
      "-----\n",
      "City number 422 (aden) added.\n",
      "-----\n",
      "City number 423 (sarangani) added.\n",
      "-----\n",
      "City number 424 (gonzales) added.\n",
      "-----\n",
      "City number 425 (beyla) added.\n",
      "-----\n",
      "City number 426 (burnie) added.\n",
      "-----\n",
      "City number 427 (longkou) added.\n",
      "-----\n",
      "City number 428 (tabriz) added.\n",
      "-----\n",
      "City number 429 (barkly west) added.\n",
      "-----\n",
      "City number 430 (chopda) added.\n",
      "-----\n",
      "City number 431 (dukat) added.\n",
      "-----\n",
      "City not found, skipping.\n",
      "-----\n",
      "City number 432 (hami) added.\n",
      "-----\n",
      "City number 433 (vila velha) added.\n",
      "-----\n",
      "City number 434 (paamiut) added.\n",
      "-----\n",
      "City number 435 (akhisar) added.\n",
      "-----\n",
      "City number 436 (dodge city) added.\n",
      "-----\n",
      "City number 437 (olafsvik) added.\n",
      "-----\n",
      "City number 438 (waingapu) added.\n",
      "-----\n",
      "City number 439 (cardston) added.\n",
      "-----\n",
      "City number 440 (jasper) added.\n",
      "-----\n",
      "City number 441 (consuegra) added.\n",
      "-----\n",
      "City number 442 (slonim) added.\n",
      "-----\n",
      "City number 443 (talnakh) added.\n",
      "-----\n",
      "City number 444 (kavaratti) added.\n",
      "-----\n",
      "City number 445 (manadhoo) added.\n",
      "-----\n",
      "City number 446 (marmarion) added.\n",
      "-----\n",
      "City number 447 (rajpura) added.\n",
      "-----\n",
      "City number 448 (atar) added.\n",
      "-----\n",
      "City number 449 (umm lajj) added.\n",
      "-----\n",
      "City number 450 (golden) added.\n",
      "-----\n",
      "City number 451 (berlevag) added.\n",
      "-----\n",
      "City number 452 (mehamn) added.\n",
      "-----\n",
      "City number 453 (axim) added.\n",
      "-----\n",
      "City number 454 (makakilo city) added.\n",
      "-----\n",
      "City number 455 (sao filipe) added.\n",
      "-----\n",
      "City number 456 (ayr) added.\n",
      "-----\n",
      "City number 457 (annau) added.\n",
      "-----\n",
      "City number 458 (cartagena) added.\n",
      "-----\n",
      "City number 459 (fukue) added.\n",
      "-----\n",
      "City number 460 (sinegorye) added.\n",
      "-----\n",
      "City number 461 (mujiayingzi) added.\n",
      "-----\n",
      "City number 462 (hobe sound) added.\n",
      "-----\n",
      "City number 463 (kachug) added.\n",
      "-----\n",
      "City number 464 (karratha) added.\n",
      "-----\n",
      "City number 465 (lamar) added.\n",
      "-----\n",
      "City number 466 (cuamba) added.\n",
      "-----\n",
      "City number 467 (meulaboh) added.\n",
      "-----\n",
      "City number 468 (muravlenko) added.\n",
      "-----\n",
      "City number 469 (jacareacanga) added.\n",
      "-----\n",
      "City number 470 (shasta lake) added.\n",
      "-----\n",
      "City number 471 (zelenoborskiy) added.\n",
      "-----\n",
      "City number 472 (el dorado) added.\n",
      "-----\n",
      "City number 473 (jales) added.\n",
      "-----\n",
      "City number 474 (broome) added.\n",
      "-----\n",
      "City number 475 (san ramon) added.\n",
      "-----\n",
      "City number 476 (corning) added.\n",
      "-----\n",
      "City number 477 (vila franca do campo) added.\n",
      "-----\n",
      "City number 478 (kasulu) added.\n",
      "-----\n",
      "City number 479 (marsabit) added.\n",
      "-----\n",
      "City number 480 (awjilah) added.\n",
      "-----\n",
      "City not found, skipping.\n",
      "-----\n",
      "City number 481 (jevargi) added.\n",
      "-----\n",
      "City number 482 (wajima) added.\n",
      "-----\n",
      "City number 483 (bukachacha) added.\n",
      "-----\n",
      "City number 484 (kisangani) added.\n",
      "-----\n",
      "City number 485 (singkang) added.\n",
      "-----\n",
      "City number 486 (acapulco) added.\n",
      "-----\n",
      "City number 487 (bhaderwah) added.\n",
      "-----\n",
      "City number 488 (christchurch) added.\n",
      "-----\n",
      "City number 489 (ulladulla) added.\n",
      "-----\n",
      "City not found, skipping.\n",
      "-----\n",
      "City number 490 (nouadhibou) added.\n",
      "-----\n",
      "City number 491 (erenhot) added.\n",
      "-----\n",
      "City number 492 (beloha) added.\n",
      "-----\n",
      "City number 493 (nuuk) added.\n",
      "-----\n",
      "City number 494 (margate) added.\n",
      "-----\n",
      "City number 495 (abay) added.\n",
      "-----\n",
      "City number 496 (sayyan) added.\n",
      "-----\n",
      "City number 497 (manjacaze) added.\n",
      "-----\n",
      "City number 498 (kozhva) added.\n",
      "-----\n",
      "City number 499 (port blair) added.\n",
      "-----\n",
      "City number 500 (codrington) added.\n",
      "-----\n",
      "City number 501 (svetlaya) added.\n",
      "-----\n",
      "City number 502 (penarroya-pueblonuevo) added.\n",
      "-----\n",
      "City number 503 (truckee) added.\n",
      "-----\n",
      "City number 504 (bulolo) added.\n",
      "-----\n",
      "City number 505 (russell) added.\n",
      "-----\n",
      "City not found, skipping.\n",
      "-----\n",
      "City number 506 (langarud) added.\n",
      "-----\n",
      "City not found, skipping.\n",
      "-----\n",
      "City number 507 (banda aceh) added.\n",
      "-----\n",
      "City number 508 (coihueco) added.\n",
      "-----\n",
      "City number 509 (bella union) added.\n",
      "-----\n",
      "City number 510 (pushkinskiye gory) added.\n",
      "-----\n",
      "City number 511 (bogatyye saby) added.\n",
      "-----\n",
      "City number 512 (uman) added.\n",
      "-----\n",
      "City number 513 (popondetta) added.\n",
      "-----\n",
      "City number 514 (mitsamiouli) added.\n",
      "-----\n",
      "City number 515 (palana) added.\n",
      "-----\n",
      "City number 516 (ginir) added.\n",
      "-----\n",
      "City number 517 (yalta) added.\n",
      "-----\n",
      "City number 518 (faizabad) added.\n",
      "-----\n",
      "City not found, skipping.\n",
      "-----\n",
      "City number 519 (mananara) added.\n",
      "-----\n",
      "City number 520 (lalganj) added.\n",
      "-----\n",
      "City number 521 (sishui) added.\n",
      "-----\n",
      "City number 522 (songjianghe) added.\n",
      "-----\n",
      "City number 523 (auki) added.\n",
      "-----\n",
      "City number 524 (quatre cocos) added.\n",
      "-----\n",
      "City number 525 (weiser) added.\n",
      "-----\n",
      "City number 526 (palmer) added.\n",
      "-----\n",
      "City number 527 (pau dos ferros) added.\n",
      "-----\n",
      "City number 528 (soe) added.\n",
      "-----\n",
      "City number 529 (boa vista) added.\n",
      "-----\n",
      "City not found, skipping.\n",
      "-----\n",
      "City number 530 (mana) added.\n",
      "-----\n",
      "City number 531 (bundaberg) added.\n",
      "-----\n",
      "City number 532 (muzhi) added.\n",
      "-----\n",
      "City number 533 (sergeyevka) added.\n",
      "-----\n",
      "City number 534 (igrim) added.\n",
      "-----\n",
      "City number 535 (osa) added.\n",
      "-----\n",
      "City number 536 (bonavista) added.\n",
      "-----\n",
      "City number 537 (gashua) added.\n",
      "-----\n",
      "City number 538 (bozioru) added.\n",
      "-----\n",
      "City number 539 (trinidad) added.\n",
      "-----\n",
      "City number 540 (phan thiet) added.\n",
      "-----\n",
      "City number 541 (payson) added.\n",
      "-----\n",
      "City number 542 (ketchikan) added.\n",
      "-----\n",
      "City number 543 (hauterive) added.\n",
      "-----\n",
      "City number 544 (haines junction) added.\n",
      "-----\n",
      "City number 545 (biltine) added.\n",
      "-----\n",
      "City number 546 (cessnock) added.\n",
      "-----\n",
      "City number 547 (garowe) added.\n",
      "-----\n",
      "City number 548 (recco) added.\n",
      "-----\n",
      "City number 549 (shingu) added.\n",
      "-----\n",
      "City number 550 (cortez) added.\n",
      "-----\n",
      "City number 551 (fort-shevchenko) added.\n",
      "-----\n",
      "City number 552 (adre) added.\n",
      "-----\n",
      "City number 553 (cayenne) added.\n",
      "-----\n",
      "City number 554 (kalmunai) added.\n",
      "-----\n",
      "City number 555 (maunabo) added.\n",
      "-----\n",
      "City number 556 (butwal) added.\n",
      "-----\n",
      "City number 557 (lima) added.\n",
      "-----\n",
      "City number 558 (chernyshevskiy) added.\n",
      "-----\n",
      "City number 559 (semme) added.\n",
      "-----\n",
      "City number 560 (price) added.\n",
      "-----\n",
      "City number 561 (tianpeng) added.\n",
      "-----\n",
      "City number 562 (pemba) added.\n",
      "-----\n",
      "City number 563 (lorengau) added.\n",
      "-----\n",
      "City number 564 (riberalta) added.\n",
      "-----\n",
      "City number 565 (rio gallegos) added.\n",
      "-----\n",
      "City number 566 (karaton) added.\n",
      "-----\n",
      "City number 567 (concepcion de buenos aires) added.\n",
      "-----\n",
      "City number 568 (kloulklubed) added.\n",
      "-----\n",
      "City number 569 (camacha) added.\n",
      "-----\n",
      "City number 570 (pyapon) added.\n",
      "-----\n",
      "City number 571 (taltal) added.\n",
      "-----\n",
      "City number 572 (lara) added.\n",
      "-----\n",
      "City number 573 (toro) added.\n",
      "-----\n",
      "City not found, skipping.\n",
      "-----\n",
      "City number 574 (mecca) added.\n",
      "-----\n",
      "City number 575 (taseyevo) added.\n",
      "-----\n",
      "City number 576 (grand-santi) added.\n",
      "-----\n",
      "City number 577 (kuytun) added.\n",
      "-----\n",
      "City number 578 (flinders) added.\n",
      "-----\n",
      "City number 579 (mogadishu) added.\n",
      "-----\n",
      "City number 580 (sao gabriel da cachoeira) added.\n",
      "-----\n"
     ]
    },
    {
     "name": "stdout",
     "output_type": "stream",
     "text": [
      "City number 581 (jijiga) added.\n",
      "-----\n",
      "City number 582 (ardakan) added.\n",
      "-----\n"
     ]
    }
   ],
   "source": [
    "# config and query formation\n",
    "# url = \"http://api.openweathermap.org/data/2.5/weather?units=Imperial\"\n",
    "\n",
    "# query = f\"{url}appid={weather_api_key}&q=\"\n",
    "base_url = \"http://api.openweathermap.org/data/2.5/weather?units=Imperial\"\n",
    "query_url = base_url + \"&appid=\" + weather_api_key + \"&q=\"\n",
    "# response = requests.get(f'{query_url}{city}').json()\n",
    "# pprint(response)\n",
    "\n",
    "#make empty lists for response input\n",
    "lat = []\n",
    "long = []\n",
    "city_names = []\n",
    "country = []\n",
    "date = []\n",
    "temp_max = []\n",
    "cloudiness = []\n",
    "humidity = []\n",
    "wind_speed = []\n",
    "\n",
    "#create for loop to append data into each list, use try/except in case of nonexistent cities\n",
    "for city in cities:\n",
    "    try:\n",
    "        response = requests.get(f'{query_url}{city}').json()\n",
    "        lat.append(response[\"coord\"][\"lat\"])\n",
    "        long.append(response[\"coord\"][\"lon\"])\n",
    "        city_names.append(response[\"name\"])\n",
    "        country.append(response[\"sys\"][\"country\"])\n",
    "        date.append(response[\"dt\"])\n",
    "        temp_max.append(response[\"main\"][\"temp_max\"])\n",
    "        cloudiness.append(response[\"clouds\"][\"all\"])\n",
    "        humidity.append(response[\"main\"][\"humidity\"])\n",
    "        wind_speed.append(response[\"wind\"][\"speed\"])\n",
    "        city_count = len(city_names)\n",
    "        print(f\"City number {city_count} ({city}) added.\")\n",
    "        print(\"-----\")\n",
    "    except KeyError:\n",
    "        print(\"City not found, skipping.\")\n",
    "        print(\"-----\")"
   ]
  },
  {
   "cell_type": "code",
   "execution_count": null,
   "metadata": {},
   "outputs": [],
   "source": []
  },
  {
   "cell_type": "markdown",
   "metadata": {},
   "source": [
    "### Convert Raw Data to DataFrame\n",
    "* Export the city data into a .csv.\n",
    "* Display the DataFrame"
   ]
  },
  {
   "cell_type": "code",
   "execution_count": 4,
   "metadata": {},
   "outputs": [
    {
     "data": {
      "text/html": [
       "<div>\n",
       "<style scoped>\n",
       "    .dataframe tbody tr th:only-of-type {\n",
       "        vertical-align: middle;\n",
       "    }\n",
       "\n",
       "    .dataframe tbody tr th {\n",
       "        vertical-align: top;\n",
       "    }\n",
       "\n",
       "    .dataframe thead th {\n",
       "        text-align: right;\n",
       "    }\n",
       "</style>\n",
       "<table border=\"1\" class=\"dataframe\">\n",
       "  <thead>\n",
       "    <tr style=\"text-align: right;\">\n",
       "      <th></th>\n",
       "      <th>Lat</th>\n",
       "      <th>Long</th>\n",
       "      <th>City</th>\n",
       "      <th>Country</th>\n",
       "      <th>Date</th>\n",
       "      <th>Max Temp</th>\n",
       "      <th>Cloudiness</th>\n",
       "      <th>Humidity</th>\n",
       "      <th>Wind Speed</th>\n",
       "    </tr>\n",
       "  </thead>\n",
       "  <tbody>\n",
       "    <tr>\n",
       "      <th>0</th>\n",
       "      <td>-3.6954</td>\n",
       "      <td>128.1814</td>\n",
       "      <td>Ambon City</td>\n",
       "      <td>ID</td>\n",
       "      <td>1666308834</td>\n",
       "      <td>82.54</td>\n",
       "      <td>20</td>\n",
       "      <td>78</td>\n",
       "      <td>3.44</td>\n",
       "    </tr>\n",
       "    <tr>\n",
       "      <th>1</th>\n",
       "      <td>22.1167</td>\n",
       "      <td>95.1333</td>\n",
       "      <td>Monywa</td>\n",
       "      <td>MM</td>\n",
       "      <td>1666308834</td>\n",
       "      <td>73.72</td>\n",
       "      <td>0</td>\n",
       "      <td>84</td>\n",
       "      <td>5.77</td>\n",
       "    </tr>\n",
       "    <tr>\n",
       "      <th>2</th>\n",
       "      <td>-54.8000</td>\n",
       "      <td>-68.3000</td>\n",
       "      <td>Ushuaia</td>\n",
       "      <td>AR</td>\n",
       "      <td>1666308834</td>\n",
       "      <td>44.22</td>\n",
       "      <td>20</td>\n",
       "      <td>61</td>\n",
       "      <td>25.32</td>\n",
       "    </tr>\n",
       "    <tr>\n",
       "      <th>3</th>\n",
       "      <td>42.4308</td>\n",
       "      <td>130.6434</td>\n",
       "      <td>Khasan</td>\n",
       "      <td>RU</td>\n",
       "      <td>1666308835</td>\n",
       "      <td>54.54</td>\n",
       "      <td>100</td>\n",
       "      <td>60</td>\n",
       "      <td>0.87</td>\n",
       "    </tr>\n",
       "    <tr>\n",
       "      <th>4</th>\n",
       "      <td>73.5069</td>\n",
       "      <td>80.5464</td>\n",
       "      <td>Dikson</td>\n",
       "      <td>RU</td>\n",
       "      <td>1666308835</td>\n",
       "      <td>32.11</td>\n",
       "      <td>100</td>\n",
       "      <td>98</td>\n",
       "      <td>16.08</td>\n",
       "    </tr>\n",
       "  </tbody>\n",
       "</table>\n",
       "</div>"
      ],
      "text/plain": [
       "       Lat      Long        City Country        Date  Max Temp  Cloudiness  \\\n",
       "0  -3.6954  128.1814  Ambon City      ID  1666308834     82.54          20   \n",
       "1  22.1167   95.1333      Monywa      MM  1666308834     73.72           0   \n",
       "2 -54.8000  -68.3000     Ushuaia      AR  1666308834     44.22          20   \n",
       "3  42.4308  130.6434      Khasan      RU  1666308835     54.54         100   \n",
       "4  73.5069   80.5464      Dikson      RU  1666308835     32.11         100   \n",
       "\n",
       "   Humidity  Wind Speed  \n",
       "0        78        3.44  \n",
       "1        84        5.77  \n",
       "2        61       25.32  \n",
       "3        60        0.87  \n",
       "4        98       16.08  "
      ]
     },
     "execution_count": 4,
     "metadata": {},
     "output_type": "execute_result"
    }
   ],
   "source": [
    "dict_wthr = { \n",
    "    \"Lat\": lat,\n",
    "    \"Long\": long,\n",
    "    \"City\": city_names,\n",
    "    \"Country\": country,\n",
    "    \"Date\": date,\n",
    "    \"Max Temp\": temp_max, \n",
    "    \"Cloudiness\": cloudiness,\n",
    "    \"Humidity\": humidity,\n",
    "    \"Wind Speed\": wind_speed\n",
    "}\n",
    "weather_df = pd.DataFrame(dict_wthr)\n",
    "weather_df.head()"
   ]
  },
  {
   "cell_type": "code",
   "execution_count": 5,
   "metadata": {},
   "outputs": [],
   "source": [
    "weather_df.to_csv(r\"../output_data/weather_csv.csv\", index = False)"
   ]
  },
  {
   "cell_type": "markdown",
   "metadata": {},
   "source": [
    "## Inspect the data and remove the cities where the humidity > 100%.\n",
    "----\n",
    "Skip this step if there are no cities that have humidity > 100%. "
   ]
  },
  {
   "cell_type": "code",
   "execution_count": 6,
   "metadata": {},
   "outputs": [
    {
     "data": {
      "text/plain": [
       "Lat           0\n",
       "Long          0\n",
       "City          0\n",
       "Country       0\n",
       "Date          0\n",
       "Max Temp      0\n",
       "Cloudiness    0\n",
       "Humidity      0\n",
       "Wind Speed    0\n",
       "dtype: int64"
      ]
     },
     "execution_count": 6,
     "metadata": {},
     "output_type": "execute_result"
    }
   ],
   "source": [
    "weather_df[weather_df[\"Humidity\"] > 100].nunique()"
   ]
  },
  {
   "cell_type": "code",
   "execution_count": 7,
   "metadata": {},
   "outputs": [],
   "source": [
    "#  Get the indices of cities that have humidity over 100%.\n",
    "\n",
    "# No cities with humidity >100%, skipping."
   ]
  },
  {
   "cell_type": "code",
   "execution_count": 8,
   "metadata": {},
   "outputs": [],
   "source": [
    "# Make a new DataFrame equal to the city data to drop all humidity outliers by index.\n",
    "# Passing \"inplace=False\" will make a copy of the city_data DataFrame, which we call \"clean_city_data\".\n"
   ]
  },
  {
   "cell_type": "code",
   "execution_count": null,
   "metadata": {},
   "outputs": [],
   "source": [
    "\n"
   ]
  },
  {
   "cell_type": "markdown",
   "metadata": {},
   "source": [
    "## Plotting the Data\n",
    "* Use proper labeling of the plots using plot titles (including date of analysis) and axes labels.\n",
    "* Save the plotted figures as .pngs."
   ]
  },
  {
   "cell_type": "markdown",
   "metadata": {},
   "source": [
    "## Latitude vs. Temperature Plot"
   ]
  },
  {
   "cell_type": "code",
   "execution_count": 9,
   "metadata": {
    "scrolled": true
   },
   "outputs": [
    {
     "data": {
      "image/png": "[encoded data removed]",
      "text/plain": [
       "<Figure size 432x288 with 1 Axes>"
      ]
     },
     "metadata": {
      "needs_background": "light"
     },
     "output_type": "display_data"
    },
    {
     "name": "stdout",
     "output_type": "stream",
     "text": [
      "This plot compares latitude and max temperature in each city within the dataframe. There is a readable tendency that as the cities get closer to the equator, the max temp increases.\n"
     ]
    },
    {
     "data": {
      "text/plain": [
       "<Figure size 432x288 with 0 Axes>"
      ]
     },
     "metadata": {},
     "output_type": "display_data"
    },
    {
     "data": {
      "image/png": "[encoded data removed]",
      "text/plain": [
       "<Figure size 432x288 with 1 Axes>"
      ]
     },
     "metadata": {
      "needs_background": "light"
     },
     "output_type": "display_data"
    },
    {
     "name": "stdout",
     "output_type": "stream",
     "text": [
      "This plot compares latitude and humidity percentage in each city within the dataframe.The tendency here seems to be a correlation between higher latitude and higher humidity.\n"
     ]
    },
    {
     "data": {
      "text/plain": [
       "<Figure size 432x288 with 0 Axes>"
      ]
     },
     "metadata": {},
     "output_type": "display_data"
    },
    {
     "data": {
      "image/png": "[encoded data removed]",
      "text/plain": [
       "<Figure size 432x288 with 1 Axes>"
      ]
     },
     "metadata": {
      "needs_background": "light"
     },
     "output_type": "display_data"
    },
    {
     "name": "stdout",
     "output_type": "stream",
     "text": [
      "This plot compares latitude and cloud coverage (as a percentage) in each city within the dataframe. There is no readable tendency or trend here.\n"
     ]
    },
    {
     "data": {
      "text/plain": [
       "<Figure size 432x288 with 0 Axes>"
      ]
     },
     "metadata": {},
     "output_type": "display_data"
    },
    {
     "data": {
      "image/png": "[encoded data removed]",
      "text/plain": [
       "<Figure size 432x288 with 1 Axes>"
      ]
     },
     "metadata": {
      "needs_background": "light"
     },
     "output_type": "display_data"
    },
    {
     "name": "stdout",
     "output_type": "stream",
     "text": [
      "This plot compares latitude and wind speed (miles per hour) in each city within the dataframe. Same as cloud coverage, there is no readable tendency or trend here.\n"
     ]
    },
    {
     "data": {
      "text/plain": [
       "<Figure size 432x288 with 0 Axes>"
      ]
     },
     "metadata": {},
     "output_type": "display_data"
    }
   ],
   "source": [
    "#set up variables to use in for loop\n",
    "lat_plt = weather_df[\"Lat\"]\n",
    "temp_plt = weather_df[\"Max Temp\"]\n",
    "humidity_plt = weather_df[\"Humidity\"]\n",
    "cloud_plt = weather_df[\"Cloudiness\"]\n",
    "wind_plt = weather_df[\"Wind Speed\"]\n",
    "date = \"Oct. 11, 2022\"\n",
    "\n",
    "#need lists to iterate in for loops\n",
    "y_data = [temp_plt, humidity_plt, cloud_plt, wind_plt]\n",
    "y_labels = [\"Temperature (*F)\", \"Humidity (%)\", \"Cloudiness (%)\", \"Wind Speed (MPH)\"]\n",
    "\n",
    "# run through loop to create each requested plot\n",
    "\n",
    "for data in range(4):\n",
    "    plt.figure()\n",
    "    plt.scatter(lat_plt, y_data[data])\n",
    "\n",
    "    # Set labels for each looped plot\n",
    "    plt.title(f\"Latitude vs. {y_labels[data]} ({date})\")\n",
    "    plt.xlabel(\"Latitude\")\n",
    "    plt.ylabel(f\"{y_labels[data]}\")\n",
    "    plt.grid()\n",
    "\n",
    "    plt.show()\n",
    "    \n",
    "    # Save each plot as png\n",
    "    plt.savefig(f\"../output_data/plot{data + 1}.png\")\n",
    "    \n",
    "    # explain each plot\n",
    "    if y_labels[data] == \"Temperature (*F)\":\n",
    "        print(\"This plot compares latitude and max temperature in each city within the dataframe. There is a readable tendency that as the cities get closer to the equator, the max temp increases.\")\n",
    "    elif y_labels[data] == \"Humidity (%)\":\n",
    "        print(\"This plot compares latitude and humidity percentage in each city within the dataframe.The tendency here seems to be a correlation between higher latitude and higher humidity.\")\n",
    "    elif y_labels[data] == \"Cloudiness (%)\":\n",
    "        print(\"This plot compares latitude and cloud coverage (as a percentage) in each city within the dataframe. There is no readable tendency or trend here.\")\n",
    "    elif y_labels[data] == \"Wind Speed (MPH)\":\n",
    "        print(f\"This plot compares latitude and wind speed (miles per hour) in each city within the dataframe. Same as cloud coverage, there is no readable tendency or trend here.\")"
   ]
  },
  {
   "cell_type": "markdown",
   "metadata": {
    "jp-MarkdownHeadingCollapsed": true,
    "tags": []
   },
   "source": [
    "## Latitude vs. Humidity Plot"
   ]
  },
  {
   "cell_type": "code",
   "execution_count": 12,
   "metadata": {},
   "outputs": [],
   "source": [
    "#this plot is coded and displays within the above loop"
   ]
  },
  {
   "cell_type": "markdown",
   "metadata": {
    "jp-MarkdownHeadingCollapsed": true,
    "tags": []
   },
   "source": [
    "## Latitude vs. Cloudiness Plot"
   ]
  },
  {
   "cell_type": "code",
   "execution_count": 13,
   "metadata": {},
   "outputs": [],
   "source": [
    "#this plot is coded and displays within the above loop"
   ]
  },
  {
   "cell_type": "markdown",
   "metadata": {
    "jp-MarkdownHeadingCollapsed": true,
    "tags": []
   },
   "source": [
    "## Latitude vs. Wind Speed Plot"
   ]
  },
  {
   "cell_type": "code",
   "execution_count": 14,
   "metadata": {},
   "outputs": [],
   "source": [
    "#this plot is coded and displays within the above loop"
   ]
  },
  {
   "cell_type": "markdown",
   "metadata": {
    "tags": []
   },
   "source": [
    "## Linear Regression"
   ]
  },
  {
   "cell_type": "code",
   "execution_count": 10,
   "metadata": {},
   "outputs": [
    {
     "name": "stdout",
     "output_type": "stream",
     "text": [
      "r-squared value: 0.6937791908566624\n"
     ]
    },
    {
     "data": {
      "image/png": "[encoded data removed]",
      "text/plain": [
       "<Figure size 432x288 with 1 Axes>"
      ]
     },
     "metadata": {
      "needs_background": "light"
     },
     "output_type": "display_data"
    },
    {
     "name": "stdout",
     "output_type": "stream",
     "text": [
      "r-squared value: 0.5315028487073564\n"
     ]
    },
    {
     "data": {
      "text/plain": [
       "<Figure size 432x288 with 0 Axes>"
      ]
     },
     "metadata": {},
     "output_type": "display_data"
    },
    {
     "data": {
      "image/png": "[encoded data removed]",
      "text/plain": [
       "<Figure size 432x288 with 1 Axes>"
      ]
     },
     "metadata": {
      "needs_background": "light"
     },
     "output_type": "display_data"
    },
    {
     "name": "stdout",
     "output_type": "stream",
     "text": [
      "These plots compare the max temps with the latitudes of each city within the southern and northern hemispheres. Given the strong r-squared value, it is notable that the farther north a northern-hemisphere city is from the equator, the colder it is, while the northern-most cities of the southern-hemisphere are closer to the equator and noticeably warmer.\n",
      "r-squared value: 0.0072873034943926\n"
     ]
    },
    {
     "data": {
      "text/plain": [
       "<Figure size 432x288 with 0 Axes>"
      ]
     },
     "metadata": {},
     "output_type": "display_data"
    },
    {
     "data": {
      "image/png": "[encoded data removed]",
      "text/plain": [
       "<Figure size 432x288 with 1 Axes>"
      ]
     },
     "metadata": {
      "needs_background": "light"
     },
     "output_type": "display_data"
    },
    {
     "name": "stdout",
     "output_type": "stream",
     "text": [
      "r-squared value: 0.029186167871703635\n"
     ]
    },
    {
     "data": {
      "text/plain": [
       "<Figure size 432x288 with 0 Axes>"
      ]
     },
     "metadata": {},
     "output_type": "display_data"
    },
    {
     "data": {
      "image/png": "[encoded data removed]",
      "text/plain": [
       "<Figure size 432x288 with 1 Axes>"
      ]
     },
     "metadata": {
      "needs_background": "light"
     },
     "output_type": "display_data"
    },
    {
     "name": "stdout",
     "output_type": "stream",
     "text": [
      "These plots compare the humidities with the latitudes of each city within the southern and northern hemispheres. It seems in both hemispheres, the farther north a city is, the more humid it gets. However, the r-squared value is not very strong, meaning this observation is not truely accurate.\n",
      "r-squared value: 0.034917146295352496\n"
     ]
    },
    {
     "data": {
      "text/plain": [
       "<Figure size 432x288 with 0 Axes>"
      ]
     },
     "metadata": {},
     "output_type": "display_data"
    },
    {
     "data": {
      "image/png": "[encoded data removed]",
      "text/plain": [
       "<Figure size 432x288 with 1 Axes>"
      ]
     },
     "metadata": {
      "needs_background": "light"
     },
     "output_type": "display_data"
    },
    {
     "name": "stdout",
     "output_type": "stream",
     "text": [
      "r-squared value: 0.017463970519567506\n"
     ]
    },
    {
     "data": {
      "text/plain": [
       "<Figure size 432x288 with 0 Axes>"
      ]
     },
     "metadata": {},
     "output_type": "display_data"
    },
    {
     "data": {
      "image/png": "[encoded data removed]",
      "text/plain": [
       "<Figure size 432x288 with 1 Axes>"
      ]
     },
     "metadata": {
      "needs_background": "light"
     },
     "output_type": "display_data"
    },
    {
     "name": "stdout",
     "output_type": "stream",
     "text": [
      "These plots compare the cloudiness with the latitudes of each city within the southern and northern hemispheres. Again, as the cities in each hemisphere are farther north, cloudiness seems to increase, however with the weak r-squared value, this is not a reliable observation.\n",
      "r-squared value: 0.06807375338495954\n"
     ]
    },
    {
     "data": {
      "text/plain": [
       "<Figure size 432x288 with 0 Axes>"
      ]
     },
     "metadata": {},
     "output_type": "display_data"
    },
    {
     "data": {
      "image/png": "[encoded data removed]",
      "text/plain": [
       "<Figure size 432x288 with 1 Axes>"
      ]
     },
     "metadata": {
      "needs_background": "light"
     },
     "output_type": "display_data"
    },
    {
     "name": "stdout",
     "output_type": "stream",
     "text": [
      "r-squared value: 0.13015019833511984\n"
     ]
    },
    {
     "data": {
      "text/plain": [
       "<Figure size 432x288 with 0 Axes>"
      ]
     },
     "metadata": {},
     "output_type": "display_data"
    },
    {
     "data": {
      "image/png": "[encoded data removed]",
      "text/plain": [
       "<Figure size 432x288 with 1 Axes>"
      ]
     },
     "metadata": {
      "needs_background": "light"
     },
     "output_type": "display_data"
    },
    {
     "name": "stdout",
     "output_type": "stream",
     "text": [
      "These plots compare the wind speeds with the latitudes of each city within the southern and northern hemispheres. It appears that the closer a city is to the equator, the windier it gets. However, both r-squared values are once again weak, meaning this is not a reliable observation.\n"
     ]
    },
    {
     "data": {
      "text/plain": [
       "<Figure size 432x288 with 0 Axes>"
      ]
     },
     "metadata": {},
     "output_type": "display_data"
    }
   ],
   "source": [
    "#Similar process as above, but splitting lat into hemispheres and adding regression\n",
    "nlat = weather_df[weather_df[\"Lat\"] > 0]\n",
    "slat = weather_df[weather_df[\"Lat\"] < 0]\n",
    "\n",
    "nlat_plt = nlat[\"Lat\"]\n",
    "ntemp_plt = nlat[\"Max Temp\"]\n",
    "nhumidity_plt = nlat[\"Humidity\"]\n",
    "ncloud_plt = nlat[\"Cloudiness\"]\n",
    "nwind_plt = nlat[\"Wind Speed\"]\n",
    "\n",
    "slat_plt = slat[\"Lat\"]\n",
    "stemp_plt = slat[\"Max Temp\"]\n",
    "shumidity_plt = slat[\"Humidity\"]\n",
    "scloud_plt = slat[\"Cloudiness\"]\n",
    "swind_plt = slat[\"Wind Speed\"]\n",
    "\n",
    "reg_data_x = [nlat_plt, slat_plt, nlat_plt, slat_plt, nlat_plt, slat_plt, nlat_plt, slat_plt]\n",
    "reg_data_y = [ntemp_plt, stemp_plt, nhumidity_plt, shumidity_plt, ncloud_plt, scloud_plt, nwind_plt, swind_plt]\n",
    "reg_labels_x = [\"Northern Hemisphere Latitude\", \"Southern Hemisphere Latitude\", \"Northern Hemisphere Latitude\", \"Southern Hemisphere Latitude\", \"Northern Hemisphere Latitude\", \"Southern Hemisphere Latitude\", \"Northern Hemisphere Latitude\", \"Southern Hemisphere Latitude\"]\n",
    "reg_labels_y = [\"Temperature (*F)\", \"Temperature (*F)\", \"Humidity (%)\", \"Humidity (%)\", \"Cloudiness (%)\", \"Cloudiness (%)\", \"Wind Speed (MPH)\", \"Wind Speed (MPH)\"]\n",
    "\n",
    "for data in range(8):\n",
    "    plt.figure()\n",
    "    plt.scatter(reg_data_x[data], reg_data_y[data])\n",
    "\n",
    "    plt.title(f\"{reg_labels_x[data]} vs. {reg_labels_y[data]} ({date})\")\n",
    "    plt.xlabel(\"Latitude\")\n",
    "    plt.ylabel(f\"{reg_labels_y[data]}\")\n",
    "    plt.grid()\n",
    "    \n",
    "    # add regression\n",
    "    (slope, intercept, rvalue, pvalue, stderr) = linregress(reg_data_x[data], reg_data_y[data])\n",
    "    r_squared = rvalue**2\n",
    "    print(f\"r-squared value: {r_squared}\")\n",
    "    regress_values = reg_data_x[data] * slope + intercept\n",
    "    line_eq = \"y = \" + str(round(slope,2)) + \"x + \" + str(round(intercept,2))\n",
    "    plt.plot(reg_data_x[data],regress_values,\"r-\")\n",
    "    plt.annotate(line_eq,(reg_data_x[data].min(),reg_data_y[data].max()),fontsize=15,color=\"purple\")\n",
    "    \n",
    "    plt.show()\n",
    " \n",
    "    plt.savefig(f\"../output_data/plot{data + 5}.png\")\n",
    "    \n",
    "    if (reg_labels_x[data] == \"Southern Hemisphere Latitude\" and reg_labels_y[data] == \"Temperature (*F)\"):\n",
    "        print(\"These plots compare the max temps with the latitudes of each city within the southern and northern hemispheres. Given the strong r-squared value, it is notable that the farther north a northern-hemisphere city is from the equator, the colder it is, while the northern-most cities of the southern-hemisphere are closer to the equator and noticeably warmer.\")\n",
    "    elif (reg_labels_x[data] == \"Southern Hemisphere Latitude\" and reg_labels_y[data] == \"Humidity (%)\"):\n",
    "        print(\"These plots compare the humidities with the latitudes of each city within the southern and northern hemispheres. It seems in both hemispheres, the farther north a city is, the more humid it gets. However, the r-squared value is not very strong, meaning this observation is not truely accurate.\")\n",
    "    elif (reg_labels_x[data] == \"Southern Hemisphere Latitude\" and reg_labels_y[data] == \"Cloudiness (%)\"):\n",
    "        print(\"These plots compare the cloudiness with the latitudes of each city within the southern and northern hemispheres. Again, as the cities in each hemisphere are farther north, cloudiness seems to increase, however with the weak r-squared value, this is not a reliable observation.\")\n",
    "    elif (reg_labels_x[data] == \"Southern Hemisphere Latitude\" and reg_labels_y[data] == \"Wind Speed (MPH)\"):\n",
    "        print(\"These plots compare the wind speeds with the latitudes of each city within the southern and northern hemispheres. It appears that the closer a city is to the equator, the windier it gets. However, both r-squared values are once again weak, meaning this is not a reliable observation.\")"
   ]
  },
  {
   "cell_type": "markdown",
   "metadata": {
    "jp-MarkdownHeadingCollapsed": true,
    "tags": []
   },
   "source": [
    "####  Northern Hemisphere - Max Temp vs. Latitude Linear Regression"
   ]
  },
  {
   "cell_type": "code",
   "execution_count": 15,
   "metadata": {},
   "outputs": [],
   "source": [
    "#this plot is coded and displays within the above loop"
   ]
  },
  {
   "cell_type": "markdown",
   "metadata": {
    "jp-MarkdownHeadingCollapsed": true,
    "tags": []
   },
   "source": [
    "####  Southern Hemisphere - Max Temp vs. Latitude Linear Regression"
   ]
  },
  {
   "cell_type": "code",
   "execution_count": 16,
   "metadata": {},
   "outputs": [],
   "source": [
    "#this plot is coded and displays within the above loop"
   ]
  },
  {
   "cell_type": "markdown",
   "metadata": {
    "jp-MarkdownHeadingCollapsed": true,
    "tags": []
   },
   "source": [
    "####  Northern Hemisphere - Humidity (%) vs. Latitude Linear Regression"
   ]
  },
  {
   "cell_type": "code",
   "execution_count": 17,
   "metadata": {},
   "outputs": [],
   "source": [
    "#this plot is coded and displays within the above loop"
   ]
  },
  {
   "cell_type": "markdown",
   "metadata": {
    "jp-MarkdownHeadingCollapsed": true,
    "tags": []
   },
   "source": [
    "####  Southern Hemisphere - Humidity (%) vs. Latitude Linear Regression"
   ]
  },
  {
   "cell_type": "code",
   "execution_count": 18,
   "metadata": {},
   "outputs": [],
   "source": [
    "#this plot is coded and displays within the above loop"
   ]
  },
  {
   "cell_type": "markdown",
   "metadata": {
    "jp-MarkdownHeadingCollapsed": true,
    "tags": []
   },
   "source": [
    "####  Northern Hemisphere - Cloudiness (%) vs. Latitude Linear Regression"
   ]
  },
  {
   "cell_type": "code",
   "execution_count": 19,
   "metadata": {},
   "outputs": [],
   "source": [
    "#this plot is coded and displays within the above loop"
   ]
  },
  {
   "cell_type": "markdown",
   "metadata": {
    "jp-MarkdownHeadingCollapsed": true,
    "tags": []
   },
   "source": [
    "####  Southern Hemisphere - Cloudiness (%) vs. Latitude Linear Regression"
   ]
  },
  {
   "cell_type": "code",
   "execution_count": 20,
   "metadata": {},
   "outputs": [],
   "source": [
    "#this plot is coded and displays within the above loop"
   ]
  },
  {
   "cell_type": "markdown",
   "metadata": {
    "jp-MarkdownHeadingCollapsed": true,
    "tags": []
   },
   "source": [
    "####  Northern Hemisphere - Wind Speed (mph) vs. Latitude Linear Regression"
   ]
  },
  {
   "cell_type": "code",
   "execution_count": 21,
   "metadata": {},
   "outputs": [],
   "source": [
    "#this plot is coded and displays within the above loop"
   ]
  },
  {
   "cell_type": "markdown",
   "metadata": {
    "tags": []
   },
   "source": [
    "####  Southern Hemisphere - Wind Speed (mph) vs. Latitude Linear Regression"
   ]
  },
  {
   "cell_type": "code",
   "execution_count": 22,
   "metadata": {},
   "outputs": [],
   "source": [
    "#this plot is coded and displays within the above loop"
   ]
  },
  {
   "cell_type": "code",
   "execution_count": 11,
   "metadata": {},
   "outputs": [],
   "source": [
    "# Written Analysis of WeatherPy:\n",
    "# 1. The only reliable observation of weather between hemispheres was in regards to temperature, where the closer a city is to the equator, the warmer its max temp is.\n",
    "# 2. With the collection of cities in the df I ran, it seemed that there were more cities closer to the equator than there were on the outer rims of each hemisphere.\n",
    "# 3. Since the r-squared values for wind speed and cloudiness were both very weak, any readable tendencies weren't reliable. I would be interested to see if other geographic features create a stronger/more reliable r-squared value for those two weather observations."
   ]
  },
  {
   "cell_type": "code",
   "execution_count": null,
   "metadata": {},
   "outputs": [],
   "source": []
  }
 ],
 "metadata": {
  "anaconda-cloud": {},
  "kernel_info": {
   "name": "python3"
  },
  "kernelspec": {
   "display_name": "Python [conda env:PythonData38] *",
   "language": "python",
   "name": "conda-env-PythonData38-py"
  },
  "language_info": {
   "codemirror_mode": {
    "name": "ipython",
    "version": 3
   },
   "file_extension": ".py",
   "mimetype": "text/x-python",
   "name": "python",
   "nbconvert_exporter": "python",
   "pygments_lexer": "ipython3",
   "version": "3.8.13"
  },
  "latex_envs": {
   "LaTeX_envs_menu_present": true,
   "autoclose": false,
   "autocomplete": true,
   "bibliofile": "biblio.bib",
   "cite_by": "apalike",
   "current_citInitial": 1,
   "eqLabelWithNumbers": true,
   "eqNumInitial": 1,
   "hotkeys": {
    "equation": "Ctrl-E",
    "itemize": "Ctrl-I"
   },
   "labels_anchors": false,
   "latex_user_defs": false,
   "report_style_numbering": false,
   "user_envs_cfg": false
  },
  "nteract": {
   "version": "0.12.3"
  }
 },
 "nbformat": 4,
 "nbformat_minor": 4
}
